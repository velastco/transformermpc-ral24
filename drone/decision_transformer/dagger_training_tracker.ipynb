{
 "cells": [
  {
   "cell_type": "code",
   "execution_count": 5,
   "metadata": {},
   "outputs": [
    {
     "ename": "FileNotFoundError",
     "evalue": "[Errno 2] No such file or directory: '/home/dcelestini/DecisionTransformerForTrajectoryOptimization/drone/decision_transformer/saved_files/checkpoints/checkpoint_quad_random_minimum_ctgrtg_self_0/log.npz'",
     "output_type": "error",
     "traceback": [
      "\u001b[31m---------------------------------------------------------------------------\u001b[39m",
      "\u001b[31mFileNotFoundError\u001b[39m                         Traceback (most recent call last)",
      "\u001b[36mCell\u001b[39m\u001b[36m \u001b[39m\u001b[32mIn[5]\u001b[39m\u001b[32m, line 16\u001b[39m\n\u001b[32m     14\u001b[39m \u001b[38;5;28;01mfor\u001b[39;00m i \u001b[38;5;129;01min\u001b[39;00m \u001b[38;5;28mrange\u001b[39m(n_iter):\n\u001b[32m     15\u001b[39m     \u001b[38;5;28;01mif\u001b[39;00m self_training:\n\u001b[32m---> \u001b[39m\u001b[32m16\u001b[39m         f.append(\u001b[43mnp\u001b[49m\u001b[43m.\u001b[49m\u001b[43mload\u001b[49m\u001b[43m(\u001b[49m\u001b[33;43m'\u001b[39;49m\u001b[33;43m/home/dcelestini/DecisionTransformerForTrajectoryOptimization/drone/decision_transformer/saved_files/checkpoints/checkpoint_quad_random_minimum_ctgrtg_self_\u001b[39;49m\u001b[33;43m'\u001b[39;49m\u001b[43m \u001b[49m\u001b[43m+\u001b[49m\u001b[43m \u001b[49m\u001b[38;5;28;43mstr\u001b[39;49m\u001b[43m(\u001b[49m\u001b[43mi\u001b[49m\u001b[43m)\u001b[49m\u001b[43m \u001b[49m\u001b[43m+\u001b[49m\u001b[43m \u001b[49m\u001b[33;43m'\u001b[39;49m\u001b[33;43m/log.npz\u001b[39;49m\u001b[33;43m'\u001b[39;49m\u001b[43m,\u001b[49m\u001b[43m \u001b[49m\u001b[43mallow_pickle\u001b[49m\u001b[43m=\u001b[49m\u001b[38;5;28;43;01mTrue\u001b[39;49;00m\u001b[43m)\u001b[49m)\n\u001b[32m     17\u001b[39m     \u001b[38;5;28;01melse\u001b[39;00m:\n\u001b[32m     18\u001b[39m         \u001b[38;5;28;01mif\u001b[39;00m dagger_training:\n",
      "\u001b[36mFile \u001b[39m\u001b[32m~/data/miniconda3/envs/Research/lib/python3.13/site-packages/numpy/lib/_npyio_impl.py:454\u001b[39m, in \u001b[36mload\u001b[39m\u001b[34m(file, mmap_mode, allow_pickle, fix_imports, encoding, max_header_size)\u001b[39m\n\u001b[32m    452\u001b[39m     own_fid = \u001b[38;5;28;01mFalse\u001b[39;00m\n\u001b[32m    453\u001b[39m \u001b[38;5;28;01melse\u001b[39;00m:\n\u001b[32m--> \u001b[39m\u001b[32m454\u001b[39m     fid = stack.enter_context(\u001b[38;5;28;43mopen\u001b[39;49m\u001b[43m(\u001b[49m\u001b[43mos\u001b[49m\u001b[43m.\u001b[49m\u001b[43mfspath\u001b[49m\u001b[43m(\u001b[49m\u001b[43mfile\u001b[49m\u001b[43m)\u001b[49m\u001b[43m,\u001b[49m\u001b[43m \u001b[49m\u001b[33;43m\"\u001b[39;49m\u001b[33;43mrb\u001b[39;49m\u001b[33;43m\"\u001b[39;49m\u001b[43m)\u001b[49m)\n\u001b[32m    455\u001b[39m     own_fid = \u001b[38;5;28;01mTrue\u001b[39;00m\n\u001b[32m    457\u001b[39m \u001b[38;5;66;03m# Code to distinguish from NumPy binary files and pickles.\u001b[39;00m\n",
      "\u001b[31mFileNotFoundError\u001b[39m: [Errno 2] No such file or directory: '/home/dcelestini/DecisionTransformerForTrajectoryOptimization/drone/decision_transformer/saved_files/checkpoints/checkpoint_quad_random_minimum_ctgrtg_self_0/log.npz'"
     ]
    }
   ],
   "source": [
    "import numpy as np\n",
    "import matplotlib.pyplot as plt\n",
    "%matplotlib widget\n",
    "\n",
    "dagger_training = True\n",
    "self_training = True\n",
    "if self_training:\n",
    "    dagger_training = True\n",
    "\n",
    "f = []\n",
    "unfeas_info = []\n",
    "log = []\n",
    "n_iter = 10\n",
    "for i in range(n_iter):\n",
    "    if self_training:\n",
    "        f.append(np.load('/home/dcelestini/DecisionTransformerForTrajectoryOptimization/drone/decision_transformer/saved_files/checkpoints/checkpoint_quad_random_minimum_ctgrtg_self_' + str(i) + '/log.npz', allow_pickle=True))\n",
    "    else:\n",
    "        if dagger_training:\n",
    "            f.append(np.load('/home/davide.celestini/DecisionTransformerForTrajectoryOptimization/drone/decision_transformer/saved_files/checkpoints/checkpoint_quad_random_forest_ctgrtg_cl_' + str(i) + '/log.npz', allow_pickle=True))\n",
    "            #f.append(np.load('/home/davide.celestini/ai-rpod/decision_transformer/saved_files/checkpoints/checkpoint_rtn_ctgrtg_v02_cl_0/log.npz', allow_pickle=True))\n",
    "        else:\n",
    "            f.append(np.load('/home/davide.celestini/DecisionTransformerForTrajectoryOptimization/drone/decision_transformer/saved_files/checkpoints/checkpoint_randt_forest_ctgrtg/log.npz', allow_pickle=True))\n",
    "    log.append(f[i]['log'].item())\n",
    "    unfeas_info.append({'i_unfeas_scp_cvx' : f[i]['i_unfeas_scp_cvx'], 'i_unfeas_self' : f[i]['i_unfeas_self']})"
   ]
  },
  {
   "cell_type": "code",
   "execution_count": null,
   "metadata": {},
   "outputs": [],
   "source": [
    "plt.figure()\n",
    "for i in range(n_iter):\n",
    "    if dagger_training:\n",
    "        plt.plot(np.arange(0,51)+i*50,log[i]['loss_ol'])\n",
    "    else:\n",
    "        plt.plot(log[i]['loss'])\n",
    "        plt.yscale('log')"
   ]
  },
  {
   "cell_type": "code",
   "execution_count": null,
   "metadata": {},
   "outputs": [],
   "source": [
    "plt.figure()\n",
    "for i in range(n_iter):\n",
    "    plt.plot(np.arange(0,51)+i*50,log[i]['loss_cl'])"
   ]
  },
  {
   "cell_type": "code",
   "execution_count": null,
   "metadata": {},
   "outputs": [],
   "source": [
    "plt.figure()\n",
    "for i in range(n_iter):\n",
    "    if dagger_training:\n",
    "        plt.plot(np.arange(0,51)+i*50,log[i]['loss_state_cl'])\n",
    "    else:\n",
    "        plt.plot(log[i]['loss_state'])\n",
    "        plt.yscale('log')\n",
    "\n",
    "plt.figure()\n",
    "for i in range(n_iter):\n",
    "    if dagger_training:\n",
    "        plt.plot(np.arange(0,51)+i*50,log[i]['loss_action_cl'])\n",
    "    else:\n",
    "        plt.plot(log[i]['loss_action'])\n",
    "        plt.yscale('log')"
   ]
  },
  {
   "cell_type": "code",
   "execution_count": null,
   "metadata": {},
   "outputs": [],
   "source": [
    "if self_training:\n",
    "    plt.figure()\n",
    "    for i in range(n_iter):\n",
    "        plt.scatter(i,len(unfeas_info[i]['i_unfeas_self']))"
   ]
  },
  {
   "cell_type": "code",
   "execution_count": null,
   "metadata": {},
   "outputs": [],
   "source": [
    "dataset = []\n",
    "dataset.append(np.load('/home/davide.celestini/DecisionTransformerForTrajectoryOptimization/drone/optimization/saved_files/closed_loop/dagger_checkpoint_quad_random_forest_ctgrtg.npz'))\n",
    "for i in range(n_iter-1):\n",
    "    dataset.append(np.load('/home/davide.celestini/DecisionTransformerForTrajectoryOptimization/drone/optimization/saved_files/closed_loop/dagger_checkpoint_quad_random_forest_ctgrtg_cl_' + str(i) + '.npz'))"
   ]
  },
  {
   "cell_type": "code",
   "execution_count": null,
   "metadata": {},
   "outputs": [],
   "source": [
    "dataset[0]"
   ]
  },
  {
   "cell_type": "code",
   "execution_count": null,
   "metadata": {},
   "outputs": [],
   "source": [
    "for i in range(n_iter):\n",
    "    print('DAGGER_ITERATION', str(i), ': Dataset dimension', len(dataset[i]['dataset_ix']))"
   ]
  },
  {
   "cell_type": "code",
   "execution_count": null,
   "metadata": {},
   "outputs": [],
   "source": [
    "for i in range(n_iter):\n",
    "    print('DAGGER_ITERATION', str(i), ': Number of cvx infeasible', len(dataset[i]['i_unfeas_cvx']))\n",
    "    print('DAGGER_ITERATION', str(i), ': Number of closed loop infeasible', len(dataset[i]['i_unfeas_artMPC']))"
   ]
  },
  {
   "cell_type": "code",
   "execution_count": null,
   "metadata": {},
   "outputs": [],
   "source": []
  },
  {
   "cell_type": "code",
   "execution_count": null,
   "metadata": {},
   "outputs": [],
   "source": [
    "j = 0\n",
    "i_dag = 1\n",
    "plt.figure()\n",
    "plt.plot(dataset[i_dag]['target_action'][j,:,0].T)\n",
    "plt.plot(dataset[i_dag]['context_action'][j,:,0].T)\n",
    "\n",
    "plt.figure()\n",
    "plt.plot(dataset[i_dag]['target_action'][j,:,1].T)\n",
    "plt.plot(dataset[i_dag]['context_action'][j,:,1].T)\n",
    "\n",
    "plt.figure()\n",
    "plt.plot(dataset[i_dag]['target_action'][j,:,2].T)\n",
    "plt.plot(dataset[i_dag]['context_action'][j,:,2].T)"
   ]
  },
  {
   "cell_type": "code",
   "execution_count": null,
   "metadata": {},
   "outputs": [],
   "source": [
    "dataset[i_dag]['target_action'][j,:,0]\n"
   ]
  },
  {
   "cell_type": "code",
   "execution_count": null,
   "metadata": {},
   "outputs": [],
   "source": []
  }
 ],
 "metadata": {
  "kernelspec": {
   "display_name": "Research",
   "language": "python",
   "name": "python3"
  },
  "language_info": {
   "codemirror_mode": {
    "name": "ipython",
    "version": 3
   },
   "file_extension": ".py",
   "mimetype": "text/x-python",
   "name": "python",
   "nbconvert_exporter": "python",
   "pygments_lexer": "ipython3",
   "version": "3.13.5"
  }
 },
 "nbformat": 4,
 "nbformat_minor": 2
}
